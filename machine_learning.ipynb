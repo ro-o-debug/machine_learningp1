{
 "cells": [
  {
   "cell_type": "markdown",
   "metadata": {},
   "source": [
    "# Proyecto Sprint 9 Machine Learning\n",
    "Por Rodrigo Ochoa"
   ]
  },
  {
   "cell_type": "markdown",
   "metadata": {},
   "source": [
    "Megaline busca mejorar la eficiencia de sus ofertas de planes migrando a los clientes de planes antiguos. Este proyecto desarrollará un modelo de aprendizaje automático para predecir el plan óptimo ('Smart' o 'Ultra') para cada cliente basándose en su comportamiento de uso. El objetivo es proporcionar a Megaline una herramienta que maximice la satisfacción del cliente y los ingresos."
   ]
  },
  {
   "cell_type": "code",
   "execution_count": 1,
   "metadata": {},
   "outputs": [],
   "source": [
    "import pandas as pd\n",
    "from sklearn.ensemble import RandomForestClassifier\n",
    "from sklearn.tree import DecisionTreeClassifier\n",
    "from sklearn.metrics import accuracy_score\n",
    "from sklearn.model_selection import train_test_split\n",
    "from sklearn.dummy import DummyClassifier\n",
    "from sklearn.linear_model import LogisticRegression"
   ]
  },
  {
   "cell_type": "code",
   "execution_count": 2,
   "metadata": {},
   "outputs": [
    {
     "name": "stdout",
     "output_type": "stream",
     "text": [
      "   calls  minutes  messages   mb_used  is_ultra\n",
      "0   40.0   311.90      83.0  19915.42         0\n",
      "1   85.0   516.75      56.0  22696.96         0\n",
      "2   77.0   467.66      86.0  21060.45         0\n",
      "3  106.0   745.53      81.0   8437.39         1\n",
      "4   66.0   418.74       1.0  14502.75         0\n",
      "<class 'pandas.core.frame.DataFrame'>\n",
      "RangeIndex: 3214 entries, 0 to 3213\n",
      "Data columns (total 5 columns):\n",
      " #   Column    Non-Null Count  Dtype  \n",
      "---  ------    --------------  -----  \n",
      " 0   calls     3214 non-null   float64\n",
      " 1   minutes   3214 non-null   float64\n",
      " 2   messages  3214 non-null   float64\n",
      " 3   mb_used   3214 non-null   float64\n",
      " 4   is_ultra  3214 non-null   int64  \n",
      "dtypes: float64(4), int64(1)\n",
      "memory usage: 125.7 KB\n",
      "None\n"
     ]
    }
   ],
   "source": [
    "#Inspección inicial\n",
    "df = pd.read_csv('/datasets/users_behavior.csv')\n",
    "\n",
    "print(df.head())\n",
    "print(df.info())"
   ]
  },
  {
   "cell_type": "code",
   "execution_count": 3,
   "metadata": {},
   "outputs": [
    {
     "name": "stdout",
     "output_type": "stream",
     "text": [
      "Train size: 1928\n",
      "Valid size: 643\n",
      "Test size: 643\n"
     ]
    }
   ],
   "source": [
    "# Esta sección divide el conjunto de datos en conjuntos de entrenamiento, validación y prueba.\n",
    "# La división adecuada es esencial para la evaluación del modelo y evita la fuga de datos.\n",
    "df_train, df_temp = train_test_split(df, test_size=0.4, random_state=42)\n",
    "df_valid, df_test = train_test_split(df_temp, test_size=0.5, random_state=42)\n",
    "\n",
    "print(\"Train size:\", len(df_train))\n",
    "print(\"Valid size:\", len(df_valid))\n",
    "print(\"Test size:\", len(df_test))"
   ]
  },
  {
   "cell_type": "code",
   "execution_count": 4,
   "metadata": {},
   "outputs": [
    {
     "name": "stdout",
     "output_type": "stream",
     "text": [
      "Best Random Forest Accuracy: 0.8133748055987559\n"
     ]
    }
   ],
   "source": [
    "# Esta sección entrena y evalúa diferentes modelos de clasificación\n",
    "# y selecciona el mejor según la precisión del conjunto de validación.\n",
    "features_train = df_train.drop('is_ultra', axis=1)\n",
    "target_train = df_train['is_ultra']\n",
    "features_valid = df_valid.drop('is_ultra', axis=1)\n",
    "target_valid = df_valid['is_ultra']\n",
    "\n",
    "best_model = None\n",
    "best_accuracy = 0\n",
    "\n",
    "# A. Random Forest\n",
    "# Esta parte del código entrena y evalúa el clasificador de Bosque Aleatorio.\n",
    "for est in range(10, 51, 10):\n",
    "    for depth in range(1, 11):\n",
    "        model = RandomForestClassifier(n_estimators=est, max_depth=depth, random_state=42)\n",
    "        model.fit(features_train, target_train)\n",
    "        predictions_valid = model.predict(features_valid)\n",
    "        accuracy = accuracy_score(target_valid, predictions_valid)\n",
    "        if accuracy > best_accuracy:\n",
    "            best_accuracy = accuracy\n",
    "            best_model = model\n",
    "\n",
    "print(\"Best Random Forest Accuracy:\", best_accuracy)"
   ]
  },
  {
   "cell_type": "code",
   "execution_count": 5,
   "metadata": {},
   "outputs": [
    {
     "name": "stdout",
     "output_type": "stream",
     "text": [
      "Best Decision Tree Accuracy: 0.7962674961119751\n"
     ]
    }
   ],
   "source": [
    "# B. Decision Tree\n",
    "# Esta parte entrena y evalúa el clasificador de Árbol de Decisión.\n",
    "best_tree_model = None\n",
    "best_tree_accuracy = 0\n",
    "for depth in range (1, 11):\n",
    "    model = DecisionTreeClassifier(random_state=42, max_depth=depth)\n",
    "    model.fit(features_train, target_train)\n",
    "    predictions_valid = model.predict(features_valid)\n",
    "    accuracy = accuracy_score(target_valid, predictions_valid)\n",
    "    if accuracy > best_tree_accuracy:\n",
    "      best_tree_model = model\n",
    "      best_tree_accuracy = accuracy\n",
    "\n",
    "print(\"Best Decision Tree Accuracy:\", best_tree_accuracy)"
   ]
  },
  {
   "cell_type": "code",
   "execution_count": 6,
   "metadata": {},
   "outputs": [
    {
     "name": "stdout",
     "output_type": "stream",
     "text": [
      "Best Logistic Regression Accuracy: 0.8133748055987559\n"
     ]
    }
   ],
   "source": [
    "# C. Regresión Logística (Logistic Regression)\n",
    "# Esta parte entrena y evalúa el modelo de Regresión Logística.\n",
    "model = LogisticRegression(solver='liblinear', random_state=42)  # Added Logistic Regression\n",
    "model.fit(features_train, target_train)\n",
    "predictions_valid = model.predict(features_valid)\n",
    "accuracy = accuracy_score(target_valid, predictions_valid)\n",
    "if accuracy > best_accuracy:\n",
    "    best_accuracy = accuracy\n",
    "    best_model = model\n",
    "\n",
    "print(\"Best Logistic Regression Accuracy:\", best_accuracy)"
   ]
  },
  {
   "cell_type": "code",
   "execution_count": 7,
   "metadata": {},
   "outputs": [
    {
     "name": "stdout",
     "output_type": "stream",
     "text": [
      "Test Accuracy: 0.8195956454121306\n"
     ]
    }
   ],
   "source": [
    "# 4. Comprobar la calidad en el conjunto de prueba\n",
    "# Esta sección evalúa el mejor modelo seleccionado en el conjunto de prueba.\n",
    "features_test = df_test.drop('is_ultra', axis=1)\n",
    "target_test = df_test['is_ultra']\n",
    "\n",
    "test_accuracy = best_model.score(features_test, target_test)\n",
    "print(\"Test Accuracy:\", test_accuracy)"
   ]
  },
  {
   "cell_type": "code",
   "execution_count": 8,
   "metadata": {},
   "outputs": [
    {
     "name": "stdout",
     "output_type": "stream",
     "text": [
      "\n",
      "Best Model: RandomForestClassifier\n"
     ]
    }
   ],
   "source": [
    "print(\"\\nBest Model:\", best_model.__class__.__name__) "
   ]
  },
  {
   "cell_type": "code",
   "execution_count": 9,
   "metadata": {},
   "outputs": [
    {
     "name": "stdout",
     "output_type": "stream",
     "text": [
      "Dummy Accuracy: 0.6967340590979783\n",
      "Model is better than dummy - looks good!\n"
     ]
    }
   ],
   "source": [
    "# 5. Prueba de Cordura (Sanity Check)\n",
    "# Esta sección realiza una prueba de cordura comparando el rendimiento del modelo\n",
    "# con un DummyClassifier de línea base que predice la clase más frecuente.\n",
    "dummy_clf = DummyClassifier(strategy=\"most_frequent\", random_state=42)\n",
    "dummy_clf.fit(features_train, target_train)\n",
    "dummy_accuracy = dummy_clf.score(features_test, target_test)\n",
    "\n",
    "print(\"Dummy Accuracy:\", dummy_accuracy)\n",
    "\n",
    "if test_accuracy < dummy_accuracy:\n",
    "    print(\"Model is worse than dummy - check for errors!\")\n",
    "else:\n",
    "    print(\"Model is better than dummy - looks good!\")"
   ]
  },
  {
   "cell_type": "markdown",
   "metadata": {},
   "source": [
    "Para abordar la necesidad de Megaline de mejorar la eficiencia de sus ofertas de planes migrando a los clientes de planes antiguos, este proyecto exploró modelos de clasificación de aprendizaje automático. El análisis reveló que RandomForestClassifier y LogisticRegression fueron los más efectivos para predecir las preferencias de planes de los clientes, ambos logrando aproximadamente un 81.34% de precisión en el conjunto de validación. El modelo RandomForestClassifier fue elegido para la evaluación final y demostró una precisión de aproximadamente el 82% en el conjunto de prueba, en comparación con una precisión del modelo dummy de alrededor del 70%. Esto indica que el modelo puede identificar con precisión los patrones de comportamiento del usuario que indican la idoneidad del plan. La implementación de este modelo podría permitir a Megaline automatizar las actualizaciones de planes, lo que resultaría en una asignación de recursos más eficiente, una reducción en la pérdida de clientes y una mayor generación de ingresos para Megaline."
   ]
  }
 ],
 "metadata": {
  "kernelspec": {
   "display_name": "Python 3 (ipykernel)",
   "language": "python",
   "name": "python3"
  },
  "language_info": {
   "codemirror_mode": {
    "name": "ipython",
    "version": 3
   },
   "file_extension": ".py",
   "mimetype": "text/x-python",
   "name": "python",
   "nbconvert_exporter": "python",
   "pygments_lexer": "ipython3",
   "version": "3.9.22"
  }
 },
 "nbformat": 4,
 "nbformat_minor": 4
}
